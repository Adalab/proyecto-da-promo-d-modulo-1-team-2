{
 "cells": [
  {
   "cell_type": "code",
   "execution_count": null,
   "metadata": {},
   "outputs": [],
   "source": [
    "preguntas_navidad = {\"¿Qué cantante interpreta la cancion `All I want for christmas is you´?\": {\"opciones\": [\"A) Nicki Minaj\", \"B) Celine Dion\", \"C) Mariah Carey\", \"D) Whitney Houston\"], \"respuesta_correcta\": \"C\" }, \n",
    "                    \"¿En qué pais es comun cenar KFC en la cena de navidad?\":{\"opciones\": [\"A) Japon\", \"B) Estados Unidos\", \"C) Corea del Sur\", \"D) Canadá\"], \"respuesta_correcta\": \"A\"}, \n",
    "                    \"¿Que famoso personaje es conocido por robar la navidad?\": {\"opciones\": [\"A) Rana Gustavo\", \"B) Olaf de Frozen\", \"C) El Grinch\", \"D) El teletubie Dipsy\"], \"respuesta_correcta\": \"C\"}, \n",
    "                    \"¿En qué año empezó a utilizar Coca-Cola la imagen de Santa Claus?\": {\"opciones\": [\"A) 1920\", \"B) 1925\", \"C) 1952\", \"D) 1982\"], \"respuesta_correcta\": \"A\"}, \n",
    "                    \"¿Qué robusto personaje se alimentas de dulces y echa regalos cada navidad?\": {\"opciones\": [\"A) Caga tío\", \"B) Caganet\", \"C) cascanueces\", \"D) Rudolph\"], \"respuesta_correcta\": \"A\"},\n",
    "                    \"¿Qué villancico fue transmitido por pirmera vez desde el espacio en 1965?\": {\"opciones\": [\"A) White Christmas\", \"B) Jingle bells\", \"C) Santa is coming to town\", \"D) Silent night\"], \"respuesta_correcta\": \"B\"}, \n",
    "                    \"¿Para qué cantante fue realmente su `Last Christmas` un 25 de Diciembre?\": {\"opciones\": [\"A) Michael Jackson\", \"B) Freddy Mercury\", \"C) Phil Collins\", \"D) George Michael\"], \"respuesta_correcta\": \"D\"}, \n",
    "                    \"¿En qué pais se originó la tradición de poner un arbol de navidad?\": {\"opciones\": [\"A) Alaska\", \"B) Alemania\", \"C) Polonia\", \"D) Austria\"], \"respuesta_correcta\": \"B\"}, \n",
    "                    \"¿En qué pais se puede visitar a Papa Noel durante todo el año?\": {\"opciones\": [\"A) Suecia\", \"B) Noruega\", \"C) Polonia\", \"D) Finlandia\"], \"respuesta_correcta\": \"D\"},\n",
    "                    \"¿Qué animal acompaña a Santa Claus en Australia?\": {\"opciones\": [\"A) Renos\", \"B) Canguros\", \"C) Koalas\", \"D) Tortugas\"], \"respuesta_correcta\": \"B\"}}\n"
   ]
  },
  {
   "cell_type": "code",
   "execution_count": null,
   "metadata": {},
   "outputs": [],
   "source": [
    "# Importamos la librería random, porque elige elementos aleatorios.\n",
    "import random \n",
    "\n",
    "# Esta función convierte las claves del diccionario preguntas en un conjunto y elimina las preguntas ya usadas, creando una lista de preguntas disponibles.\n",
    "def seleccionar_pregunta(preguntas, usadas): \n",
    "    disponibles = list(set(preguntas.keys()) - usadas) \n",
    "    if disponibles: \n",
    "        pregunta = random.choice(disponibles) \n",
    "        contenido = preguntas[pregunta]\n",
    "        return pregunta, contenido\n",
    "    else:\n",
    "        return None, None  # Retornamos None para ambos valores si no hay preguntas disponibles\n",
    "\n",
    "# Aquí se ven los marcadores iniciales\n",
    "correctas = 0\n",
    "incorrectas = 0\n",
    "max_correctas = 5\n",
    "max_incorrectas = 3\n",
    "preguntas_usadas = set()\n",
    "\n",
    "# El bucle (while True) gestiona el juego de trivial, seleccionando preguntas aleatorias y manejando las respuestas del usuario.\n",
    "while True:\n",
    "    pregunta, contenido = seleccionar_pregunta(preguntas_navidad, preguntas_usadas)\n",
    "    \n",
    "    if pregunta is None:\n",
    "        print(\"Ya no quedan preguntas disponibles.\")\n",
    "        break\n",
    "\n",
    "    print(pregunta)\n",
    "    for opcion in contenido[\"opciones\"]:\n",
    "        print(opcion)\n",
    "\n",
    "    respuesta_usuario = input(\"Tu respuesta (A, B, C, D) o `salir`: \").upper()\n",
    "    \n",
    "    if respuesta_usuario == \"SALIR\":\n",
    "        print(\"¿Te rindes?\")\n",
    "        break\n",
    "    elif respuesta_usuario == contenido[\"respuesta_correcta\"]:\n",
    "        correctas += 1\n",
    "        print(\"¡Correcto!\")\n",
    "    else: \n",
    "        incorrectas += 1\n",
    "        print(f\"Incorrecto. La respuesta correcta era {contenido['respuesta_correcta']}\")\n",
    "        \n",
    "    preguntas_usadas.add(pregunta)\n",
    "    \n",
    "    # Se resuelve el juego\n",
    "    if correctas == max_correctas:\n",
    "        print(\"¡Felicidades, eres una crack de la navidad!\")\n",
    "        break\n",
    "    elif incorrectas == max_incorrectas:\n",
    "        print(\"¡Eres todo un Grinch! ¡Te pillamos al tercer fallo!\")\n",
    "        break\n"
   ]
  }
 ],
 "metadata": {
  "kernelspec": {
   "display_name": "base",
   "language": "python",
   "name": "python3"
  },
  "language_info": {
   "codemirror_mode": {
    "name": "ipython",
    "version": 3
   },
   "file_extension": ".py",
   "mimetype": "text/x-python",
   "name": "python",
   "nbconvert_exporter": "python",
   "pygments_lexer": "ipython3",
   "version": "3.12.4"
  }
 },
 "nbformat": 4,
 "nbformat_minor": 2
}
