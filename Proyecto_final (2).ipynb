{
 "cells": [
  {
   "cell_type": "code",
   "execution_count": 16,
   "metadata": {},
   "outputs": [],
   "source": [
    "preguntas_geografia = {\"¿En qué zona de España se encuentra el clima oceánico?\": {\"opciones\": [\"A) El Valle del Guadalquivir\", \"B) El norte de España\", \"C) Las Islas Baleares\", \"D) La Comunidad Valenciana\"], \"respuesta_correcta\": \"B\" }, \"¿Qué sistema montañoso se formó principalmente durante la orogenia alpina?\":{\"opciones\": [\"A) Pirineos\", \"B) Montes de Toledo\", \"C) Cordillera Cantábrica\", \"D) Macizo Galaico\"], \"respuesta_correcta\": \"A\"}, \"¿En qué provincia se encuentra el pico más alto de los Pirineos?\": {\"opciones\": [\"A) Huesca\", \"B) Girona\", \"C) Lleida\", \"D) Navarra\"], \"respuesta_correcta\": \"A\"}, \"¿Qué región de España tiene la menor precipitación anual?\": {\"opciones\": [\"A) Murcia\", \"B) Extremadura\", \"C) Canarias\", \"D) Almería\"], \"respuesta_correcta\": \"D\"}, \"¿Cuál es el pico más alto de Sierra Nevada?\": {\"opciones\": [\"A) Mulhacén\", \"B) Veleta\", \"C) Alcazaba\", \"D) Tresmiles\"], \"respuesta_correcta\": \"A\"}}\n"
   ]
  },
  {
   "cell_type": "code",
   "execution_count": 18,
   "metadata": {},
   "outputs": [],
   "source": [
    "preguntas_deportes = {\"¿Cuántos kilómetros tiene una maratón?\": {\"opciones\": [\"A) 21 km\", \"B) 40 km\", \"C) 10 km\", \"D) 42 km\"], \"respuesta_correcta\": \"D\" }, \"¿En qué año debutó el fútbol femenino como deporte olímpico?\":{\"opciones\": [\"A) 1984\", \"B) 1996\", \"C) 2000\", \"D) 1992\"], \"respuesta_correcta\": \"B\"}, \"¿Qué atleta es conocida como la mejor gimnasta de todos los tiempos?\": {\"opciones\": [\"A) Simone Biles\", \"B) Nadia Comaneci\", \"C) Mary Lou Retton\", \"D) Olga Korbut\"], \"respuesta_correcta\": \"A\"}, \"¿Qué país es conocido por el sumo como deporte tradicional?\": {\"opciones\": [\"A) China\", \"B) Corea del Sur\", \"C) Japón\", \"D) India\"], \"respuesta_correcta\": \"C\"}, \"¿En qué año ganó España su último mundial?\": {\"opciones\": [\"A) 2012\", \"B) 2010\", \"C) 2008\", \"D) 2022\"], \"respuesta_correcta\": \"B\"}}\n"
   ]
  },
  {
   "cell_type": "code",
   "execution_count": 20,
   "metadata": {},
   "outputs": [],
   "source": [
    "preguntas_entretenimiento_y_cine = {\"¿Cuántas películas tiene la saga de Harry Potter?\": {\"opciones\": [\"A) 6\", \"B) 8\", \"C) 7\", \"D) 5\"], \"respuesta_correcta\": \"B\" }, \"¿Quién es la protagonista de Vis a Vis?\":{\"opciones\": [\"A) Berta Vázquez\", \"B) Maggie Civantos\", \"C) Najwa Nimri\", \"D) Alba Flores\"], \"respuesta_correcta\": \"B\"}, \"¿Qué nueva emoción aparece en la película Inside Out 2?\": {\"opciones\": [\"A) Curiosidad\", \"B) Ansiedad\", \"C) Optimismo\", \"D) Nostalgia\"], \"respuesta_correcta\": \"B\"}, \"¿Qué poder especial tiene Miércoles Addams en la serie de Netflix?\": {\"opciones\": [\"A) Puede hablar con los animales\", \"B) Es invisible\", \"C) Tiene visiones sobre el pasado y futuro\", \"D) Puede volar\"], \"respuesta_correcta\": \"C\"}, \"¿Qué película española dirigida por Alejandro Amenábar ganó el Óscar a la Mejor Película Extranjera en 2004?\": {\"opciones\": [\"A) Mar Adentro\", \"B) Volver\", \"C) La Piel que Habito\", \"D) La Mala Educación\"], \"respuesta_correcta\": \"A\"}}\n"
   ]
  },
  {
   "cell_type": "code",
   "execution_count": 28,
   "metadata": {},
   "outputs": [],
   "source": [
    "preguntas_Arte_e_Historia = {\"¿Qué famoso descubrimiento hizo Cristóbal Colón en 1492 sin saberlo?\": {\"opciones\": [\"A) El continente africano\", \"B) El continente americano\", \"C) La ruta hacia la India\", \"D) Las Islas Canarias\"], \"respuesta_correcta\": \"B\"}, \"¿Qué ciudad fue famosa por un muro que separaba a sus habitantes en dos bloques: este y oeste?\": {\"opciones\": [\"A) París\", \"B) Berlín\", \"C) Roma\", \"D) Moscú\"], \"respuesta_correcta\": \"B\"}, \"¿Por qué Goya pintó esta imagen tan aterradora de Saturno devorando a su hijo?\": {\"opciones\": [\"A) Porque estaba cansado de ver tantas escenas felices en el arte\", \"B) Porque quería retratar el lado oscuro del poder y la desesperación\", \"C) Porque quería hacer una serie de pinturas sobre cenas familiares\" , \"D) Porque pensó que sería un buen tema para un restaurante temático\"], \"respuesta_correcta\": \"B\"}, \"¿Qué famoso artista pintó la Noche Estrellada, una de sus obras más conocidas?\": {\"opciones\": [\"A) Claude Monet\", \"B) Vincent van Gogh\", \"C) Jackson Pollock\", \"D) Pablo Picasso\"], \"respuesta_correcta\": \"B\"}, \"¿Quién pintó la famosa obra Guernica, que representa el sufrimiento causado por la Guerra Civil Española?\": {\"opciones\": [\"A) Salvador Dalí\", \"B) Pablo Picasso\", \"C) Francisco Goya\", \"D) Joan Miró\"], \"respuesta_correcta\": \"B\"}}"
   ]
  },
  {
   "cell_type": "code",
   "execution_count": null,
   "metadata": {},
   "outputs": [],
   "source": [
    "preguntas_pasatiempo = {\"¿Quién es la reina del pueblo?\": {\"opciones\": [\"A) María Patiño\", \"B) María Jose Campanario\", \"C) Belen Esteban\", \"D) María Teresa Campos\"], \"respuesta_correcta\": \"C\"}, \"¿Quién es la mascota del grandprix?\": {\"opciones\": [\"A) El clown\", \"B) La vaquilla\", \"C) El toro\", \"D) El ornitorrinco\"], \"respuesta_correcta\": \"B\"}, \"¿Como se llaman las hormigas del hormiguero?\": {\"opciones\": [\"A) Trancas y Barrancas\", \"B) Barrancas y Petunias\", \"C) Trancas y Burrancas\" , \"D) Petancas y Petunias\"], \"respuesta_correcta\": \"A\"}, \"¿Cómo se llama el programa de Broncano en RTVE?\": {\"opciones\": [\"A) La resistencia\", \"B) La leyenda\", \"C) La leyenda\", \"D) La estupenda\"], \"respuesta_correcta\": \"C\"}, \"¿Quién fue la primera ganadora de Operación Triunfo en España?\": {\"opciones\": [\"A) David Bisbal\", \"B) Chenoa\", \"C) Manu Tenorio\", \"D) Rosa López\"], \"respuesta_correcta\": \"D\"}}"
   ]
  },
  {
   "cell_type": "code",
   "execution_count": null,
   "metadata": {},
   "outputs": [],
   "source": [
    "import random #librería para hacer preguntas al azar\n",
    "def preguntas_aleatorias(preguntas):\n",
    "    pregunta= random.choice(list(preguntas.key())) # Esto es para acceder a la pregunta aleatoria\n",
    "    contenido = preguntas[pregunta] # Esto nos da la clave, es decir las opciones del diccionario\n",
    "    \n",
    "    \n",
    "# Contadores\n",
    "correctas = 0\n",
    "Incorrectas = 0\n",
    "Max_correctas = 5\n",
    "Max_incorrectas = 3\n",
    "\n",
    "while True:\n",
    "    if correctas < Max_correctas:\n",
    "        continue\n",
    "    if Incorrectas < Max_incorrectas:\n",
    "        continue\n",
    "    else: \n",
    "        print(\"Has acabado el juego\") \n"
   ]
  }
 ],
 "metadata": {
  "kernelspec": {
   "display_name": "base",
   "language": "python",
   "name": "python3"
  },
  "language_info": {
   "codemirror_mode": {
    "name": "ipython",
    "version": 3
   },
   "file_extension": ".py",
   "mimetype": "text/x-python",
   "name": "python",
   "nbconvert_exporter": "python",
   "pygments_lexer": "ipython3",
   "version": "3.12.7"
  }
 },
 "nbformat": 4,
 "nbformat_minor": 2
}
